{
 "cells": [
  {
   "cell_type": "code",
   "execution_count": 34,
   "id": "34cfab40",
   "metadata": {},
   "outputs": [],
   "source": [
    "#将smile格式导出为xyz文件\n",
    "from IPython.display import SVG\n",
    "from rdkit import rdBase\n",
    "from rdkit import Chem\n",
    "from rdkit.Chem import AllChem, DataStructs\n",
    "from rdkit.Chem.Draw import DrawMorganBit, DrawMorganBits,DrawMorganEnv, IPythonConsole\n",
    "from rdkit.Chem import Draw\n",
    "import pandas as pd\n",
    "import matplotlib.pyplot as plt\n",
    "import os\n",
    "import numpy as np\n",
    "from matplotlib import rcParams\n",
    "config = {\"mathtext.fontset\":'stix'}\n",
    "rcParams.update(config)\n",
    "\n",
    "df=pd.read_excel('./reorganization/train_set_5631.xlsx',sheet_name=\"train_set_5631\")\n",
    "\n",
    "smiles = df.iloc[0:, [1]].values\n",
    "\n",
    "for i in range(len(smiles)):\n",
    "    mol = Chem.MolFromSmiles(smiles[i][0])\n",
    "    mol_H = Chem.AddHs(mol)\n",
    "    AllChem.EmbedMolecule(mol_H, randomSeed=10)\n",
    "    AllChem.MMFFOptimizeMolecule(mol_H,mmffVariant='MMFF94', maxIters=200)\n",
    "    Chem.MolToXYZFile(mol_H, str(\"%04d\" % i)+'.xyz')\n",
    "    \n"
   ]
  },
  {
   "cell_type": "code",
   "execution_count": 1,
   "id": "8b27c33e",
   "metadata": {},
   "outputs": [
    {
     "name": "stdout",
     "output_type": "stream",
     "text": [
      "[[9 8 7]\n",
      " [3 4 6]\n",
      " [6 5 3]]\n",
      "[[0 1 2]\n",
      " [2 1 0]\n",
      " [0 1 2]]\n"
     ]
    }
   ],
   "source": [
    "import numpy as np\n",
    "a = np.array([[9,8,7],[3,4,6],[6,5,3]])\n",
    "indexs = a.argsort()[:,::-1]    #将矩阵的每一行都降序排列，但不改变矩阵，且返回对应的索引\n",
    "print(a)\n",
    "print(indexs)\n"
   ]
  },
  {
   "cell_type": "code",
   "execution_count": 1,
   "id": "16b85704",
   "metadata": {},
   "outputs": [
    {
     "name": "stderr",
     "output_type": "stream",
     "text": [
      "D:\\study-setup\\anaconda3\\lib\\site-packages\\ipykernel_launcher.py:23: DeprecationWarning: `np.float` is a deprecated alias for the builtin `float`. To silence this warning, use `float` by itself. Doing this will not modify any behavior and is safe. If you specifically wanted the numpy scalar type, use `np.float64` here.\n",
      "Deprecated in NumPy 1.20; for more details and guidance: https://numpy.org/devdocs/release/1.20.0-notes.html#deprecations\n"
     ]
    },
    {
     "name": "stdout",
     "output_type": "stream",
     "text": [
      "Once deleted, variables cannot be recovered. Proceed (y/[n])? y\n"
     ]
    }
   ],
   "source": [
    "#将HOMO轨道的原子系数取出来\n",
    "import shutil,re,os\n",
    "import numpy as np\n",
    "os.chdir('C:/Users/wanli/Desktop/ML/reorganization/data/orb-data') \n",
    "outFiles = []\n",
    "for filename in os.listdir('./'): \n",
    "    if filename.endswith('.data'):\n",
    "        outFiles.append(filename)       \n",
    "outFiles.sort()\n",
    "\n",
    "for i in outFiles:\n",
    "    f_1 = open(i,'r')\n",
    "    line = f_1.readlines()\n",
    "    begin=[]\n",
    "    end=[]\n",
    "    for index,lines in enumerate(line):\n",
    "        if \"Contributions after normalization:\" in lines:\n",
    "            begin.append(index + 1)\n",
    "        if \"Orbital delocalization index:\" in lines:\n",
    "            end.append(index - 1)\n",
    "            \n",
    "#begin[0]对应HOMO,begin[1]对应LUMO\n",
    "    coeff = np.loadtxt(i,skiprows=begin[0],max_rows=int(end[0]-begin[0]),usecols=(4),dtype=np.float)\n",
    "    \n",
    "    np.savetxt(str(i)[0:-5]+'-coeff.out',coeff/100,fmt='% 7.5f')\n",
    "    \n",
    "\n",
    "\n",
    "%reset"
   ]
  },
  {
   "cell_type": "code",
   "execution_count": null,
   "id": "e530c164",
   "metadata": {},
   "outputs": [],
   "source": []
  }
 ],
 "metadata": {
  "kernelspec": {
   "display_name": "Python 3 (ipykernel)",
   "language": "python",
   "name": "python3"
  },
  "language_info": {
   "codemirror_mode": {
    "name": "ipython",
    "version": 3
   },
   "file_extension": ".py",
   "mimetype": "text/x-python",
   "name": "python",
   "nbconvert_exporter": "python",
   "pygments_lexer": "ipython3",
   "version": "3.7.3"
  }
 },
 "nbformat": 4,
 "nbformat_minor": 5
}
