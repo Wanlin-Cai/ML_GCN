{
 "cells": [
  {
   "cell_type": "code",
   "execution_count": 1,
   "id": "0725b83b",
   "metadata": {},
   "outputs": [
    {
     "ename": "ModuleNotFoundError",
     "evalue": "No module named 'torch'",
     "output_type": "error",
     "traceback": [
      "\u001b[1;31m---------------------------------------------------------------------------\u001b[0m",
      "\u001b[1;31mModuleNotFoundError\u001b[0m                       Traceback (most recent call last)",
      "\u001b[1;32m~\\AppData\\Local\\Temp\\ipykernel_21692\\1439464385.py\u001b[0m in \u001b[0;36m<module>\u001b[1;34m\u001b[0m\n\u001b[1;32m----> 1\u001b[1;33m \u001b[1;32mimport\u001b[0m \u001b[0mtorch\u001b[0m\u001b[1;33m,\u001b[0m\u001b[0mos\u001b[0m\u001b[1;33m\u001b[0m\u001b[1;33m\u001b[0m\u001b[0m\n\u001b[0m\u001b[0;32m      2\u001b[0m \u001b[1;32mfrom\u001b[0m \u001b[0mtorch\u001b[0m\u001b[1;33m.\u001b[0m\u001b[0mutils\u001b[0m\u001b[1;33m.\u001b[0m\u001b[0mdata\u001b[0m \u001b[1;32mimport\u001b[0m \u001b[0mTensorDataset\u001b[0m\u001b[1;33m,\u001b[0m\u001b[0mrandom_split\u001b[0m\u001b[1;33m\u001b[0m\u001b[1;33m\u001b[0m\u001b[0m\n\u001b[0;32m      3\u001b[0m \u001b[1;32mimport\u001b[0m \u001b[0mpandas\u001b[0m \u001b[1;32mas\u001b[0m \u001b[0mpd\u001b[0m\u001b[1;33m\u001b[0m\u001b[1;33m\u001b[0m\u001b[0m\n\u001b[0;32m      4\u001b[0m \u001b[1;32mfrom\u001b[0m \u001b[0mrdkit\u001b[0m \u001b[1;32mimport\u001b[0m \u001b[0mChem\u001b[0m\u001b[1;33m,\u001b[0m\u001b[0mDataStructs\u001b[0m\u001b[1;33m\u001b[0m\u001b[1;33m\u001b[0m\u001b[0m\n\u001b[0;32m      5\u001b[0m \u001b[1;32mfrom\u001b[0m \u001b[0mrdkit\u001b[0m\u001b[1;33m.\u001b[0m\u001b[0mChem\u001b[0m \u001b[1;32mimport\u001b[0m \u001b[0mAllChem\u001b[0m\u001b[1;33m\u001b[0m\u001b[1;33m\u001b[0m\u001b[0m\n",
      "\u001b[1;31mModuleNotFoundError\u001b[0m: No module named 'torch'"
     ]
    }
   ],
   "source": [
    "import torch,os\n",
    "from torch.utils.data import TensorDataset,random_split\n",
    "import pandas as pd\n",
    "from rdkit import Chem,DataStructs\n",
    "from rdkit.Chem import AllChem\n",
    "from rdkit.Chem import ChemicalFeatures\n",
    "from rdkit import RDConfig\n",
    "import os\n",
    "from dgllife.data import MoleculeCSVDataset\n",
    "from functools import partial\n",
    "from dgllife.utils import smiles_to_bigraph, ConsecutiveSplitter\n",
    "\n",
    "# Obtain the features of atoms and bonds\n",
    "def load_coeff(mol):\n",
    "    mol = Chem.MolToSmiles(mol, canonical=True) \n",
    "    idx=sms.index(mol)  \n",
    "    coeff = torch.load('orb_coeff.t')\n",
    "    return coeff[idx]\n",
    "\n",
    "\n",
    "def featurize_atoms(mol):  \n",
    "    feats = []\n",
    "    coo = load_coeff(mol)\n",
    "    for atom in mol.GetAtoms():\n",
    "        hy = [int(atom.GetHybridization()==y) for y in [Chem.rdchem.HybridizationType.SP,\n",
    "              Chem.rdchem.HybridizationType.SP2,Chem.rdchem.HybridizationType.SP3]]\n",
    "        feats.append([coo[atom.GetIdx()]])\n",
    "        \n",
    "    return {'atomic': torch.tensor(feats)}\n",
    "\n",
    "\n",
    "def featurize_edges(mol, self_loop=False):     \n",
    "    feats = []\n",
    "    coo = load_coeff(mol)\n",
    "    num_atoms = mol.GetNumAtoms()\n",
    "    for i in range(num_atoms):\n",
    "        for j in range(num_atoms):\n",
    "            e_ij = mol.GetBondBetweenAtoms(i,j)\n",
    "            if e_ij is None:\n",
    "                bond_type = None\n",
    "            else:\n",
    "                bond_type = e_ij.GetBondType()\n",
    "                feats.append([float(bond_type == x)for x in (None, Chem.rdchem.BondType.SINGLE,\n",
    "                              Chem.rdchem.BondType.DOUBLE, Chem.rdchem.BondType.TRIPLE, Chem.rdchem.BondType.AROMATIC)]\n",
    "                             +[coo[i] * coo[j]])\n",
    "    return {'edgic': torch.tensor(feats)}\n",
    "\n",
    "\n",
    "if __name__ == \"__main__\":\n",
    "\n",
    "    df = pd.read_csv('train_set_5631.csv')\n",
    "    sms=[Chem.MolToSmiles(Chem.MolFromSmiles(sm), canonical=True) for sm in df['smiles'].tolist()]\n",
    "   \n",
    "    # SMILES to graph-based dataset for prediction model with DGL-Life\n",
    "    dataset=MoleculeCSVDataset(df=df,\n",
    "                               smiles_to_graph=partial(smiles_to_bigraph, add_self_loop=False),\n",
    "                               node_featurizer=featurize_atoms,\n",
    "                               edge_featurizer=None,#featurize_edges,\n",
    "                               smiles_column='smiles',\n",
    "                               cache_file_path='graph.pt',log_every=1000)\n",
    "#    print(dataset)\n",
    "    train_set, val_set, test_set = ConsecutiveSplitter.train_val_test_split(dataset, frac_train=0.8, frac_val=0.1, frac_test=0.1)\n",
    "    torch.save([train_set,val_set,test_set], \"opv_graph-onlycoeff100.pt\")\n"
   ]
  },
  {
   "cell_type": "code",
   "execution_count": 2,
   "id": "cf054fca",
   "metadata": {},
   "outputs": [
    {
     "data": {
      "text/plain": [
       "('c1cc2[nH]c3c4ncc5ccCc5c4Cc3c2o1',\n",
       " Graph(num_nodes=18, num_edges=44,\n",
       "       ndata_schemes={'atomic': Scheme(shape=(1,), dtype=torch.float32)}\n",
       "       edata_schemes={}),\n",
       " tensor([246.9197]),\n",
       " tensor([1.]))"
      ]
     },
     "execution_count": 2,
     "metadata": {},
     "output_type": "execute_result"
    }
   ],
   "source": [
    "dataset.load_full = True\n",
    "dataset[0]"
   ]
  },
  {
   "cell_type": "code",
   "execution_count": 3,
   "id": "8514b574",
   "metadata": {},
   "outputs": [],
   "source": [
    "a=featurize_atoms(Chem.MolFromSmiles('c1cc2[nH]c3c4ncc5ccCc5c4Cc3c2o1'))\n"
   ]
  },
  {
   "cell_type": "code",
   "execution_count": 8,
   "id": "7d05bb9d",
   "metadata": {},
   "outputs": [
    {
     "data": {
      "text/plain": [
       "<dgl.data.utils.Subset at 0x1ec7a488e48>"
      ]
     },
     "execution_count": 8,
     "metadata": {},
     "output_type": "execute_result"
    }
   ],
   "source": [
    "torch.load('opv_graph-onlycoeff100.pt')[0]\n"
   ]
  },
  {
   "cell_type": "code",
   "execution_count": null,
   "id": "c2a5394a",
   "metadata": {},
   "outputs": [],
   "source": []
  },
  {
   "cell_type": "code",
   "execution_count": null,
   "id": "90cdc2ba",
   "metadata": {},
   "outputs": [],
   "source": []
  }
 ],
 "metadata": {
  "kernelspec": {
   "display_name": "Python 3 (ipykernel)",
   "language": "python",
   "name": "python3"
  },
  "language_info": {
   "codemirror_mode": {
    "name": "ipython",
    "version": 3
   },
   "file_extension": ".py",
   "mimetype": "text/x-python",
   "name": "python",
   "nbconvert_exporter": "python",
   "pygments_lexer": "ipython3",
   "version": "3.7.3"
  }
 },
 "nbformat": 4,
 "nbformat_minor": 5
}
