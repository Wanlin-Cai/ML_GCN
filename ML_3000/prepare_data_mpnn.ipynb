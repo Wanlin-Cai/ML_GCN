{
 "cells": [
  {
   "cell_type": "code",
   "execution_count": 1,
   "id": "b7c64ec7",
   "metadata": {},
   "outputs": [
    {
     "name": "stderr",
     "output_type": "stream",
     "text": [
      "Using backend: pytorch\n"
     ]
    }
   ],
   "source": [
    "import torch,os\n",
    "from torch.utils.data import TensorDataset,random_split\n",
    "import pandas as pd\n",
    "from rdkit import Chem,DataStructs\n",
    "from rdkit.Chem import AllChem\n",
    "from rdkit.Chem import ChemicalFeatures\n",
    "from rdkit import RDConfig\n",
    "import os, random\n",
    "import numpy as np\n",
    "from dgllife.data import MoleculeCSVDataset\n",
    "from functools import partial\n",
    "from dgllife.utils import smiles_to_bigraph, RandomSplitter# ConsecutiveSplitter,"
   ]
  },
  {
   "cell_type": "code",
   "execution_count": 14,
   "id": "750fb6ab",
   "metadata": {},
   "outputs": [
    {
     "name": "stdout",
     "output_type": "stream",
     "text": [
      "Processing dgl graphs from scratch...\n",
      "Processing molecule 200/5000\n",
      "Processing molecule 400/5000\n",
      "Processing molecule 600/5000\n",
      "Processing molecule 800/5000\n",
      "Processing molecule 1000/5000\n",
      "Processing molecule 1200/5000\n",
      "Processing molecule 1400/5000\n",
      "Processing molecule 1600/5000\n",
      "Processing molecule 1800/5000\n",
      "Processing molecule 2000/5000\n",
      "Processing molecule 2200/5000\n",
      "Processing molecule 2400/5000\n",
      "Processing molecule 2600/5000\n",
      "Processing molecule 2800/5000\n",
      "Processing molecule 3000/5000\n",
      "Processing molecule 3200/5000\n",
      "Processing molecule 3400/5000\n",
      "Processing molecule 3600/5000\n",
      "Processing molecule 3800/5000\n",
      "Processing molecule 4000/5000\n",
      "Processing molecule 4200/5000\n",
      "Processing molecule 4400/5000\n",
      "Processing molecule 4600/5000\n",
      "Processing molecule 4800/5000\n",
      "Processing molecule 5000/5000\n"
     ]
    }
   ],
   "source": [
    "# Obtain the features of atoms and bonds\n",
    "def load_coeff(mol):\n",
    "    mol = Chem.MolToSmiles(mol, canonical=True)    \n",
    "    df = pd.read_csv('train_set_5631.csv')\n",
    "    sms=[Chem.MolToSmiles(Chem.MolFromSmiles(sm), canonical=True) for sm in df['smiles'].tolist()]\n",
    "    idx=sms.index(mol)    \n",
    "    coeff = torch.load('orb_coeff.t')\n",
    "    return coeff[idx]\n",
    "\n",
    "\n",
    "def featurize_atoms(mol):  \n",
    "    feats = []\n",
    "#    coo = load_coeff(mol)\n",
    "    for atom in mol.GetAtoms():\n",
    "        hy = [int(atom.GetHybridization()==y) for y in [Chem.rdchem.HybridizationType.SP,\n",
    "              Chem.rdchem.HybridizationType.SP2,Chem.rdchem.HybridizationType.SP3]]\n",
    "        feats.append([atom.GetAtomicNum(), atom.GetExplicitValence(), atom.GetImplicitValence(),\n",
    "                      atom.GetTotalNumHs(),atom.GetDegree(), int(atom.GetIsAromatic())]+hy)#+[coo[atom.GetIdx()]]\n",
    "#, atom.GetFormalCharge(), atom.GetNumRadicalElectrons(), int(atom.IsInRing())  \n",
    "    return {'h': torch.tensor(feats).float()}\n",
    "\n",
    "\n",
    "def featurize_edges(mol, add_self_loop=True):   \n",
    "    feats = []\n",
    "#    coo = load_coeff(mol)\n",
    "    num_atoms = mol.GetNumAtoms()\n",
    "    for i in range(num_atoms):\n",
    "        for j in range(num_atoms):\n",
    "            e_ij = mol.GetBondBetweenAtoms(i,j)\n",
    "            if e_ij is None:\n",
    "                bond_type = None\n",
    "            else:\n",
    "                bond_type = e_ij.GetBondType()\n",
    "                \n",
    "\n",
    "                feats.append([int(bond_type == x)for x in (Chem.rdchem.BondType.SINGLE,\n",
    "                              Chem.rdchem.BondType.DOUBLE, Chem.rdchem.BondType.TRIPLE, Chem.rdchem.BondType.AROMATIC)])#+[coo[i] * coo[j]]\n",
    "            if i == j:\n",
    "                feats.append([0,0,0,0])    #+[coo[i] * coo[j]]       \n",
    "    return {'e': torch.tensor(feats).float()}\n",
    "\n",
    "\n",
    "\n",
    "if __name__ == \"__main__\":\n",
    "    torch.manual_seed(1024)\n",
    "    random.seed(1024)\n",
    "    np.random.seed(1024)\n",
    "\n",
    "    df = pd.read_csv('est/5000est.csv')\n",
    "    sms=[Chem.MolToSmiles(Chem.MolFromSmiles(sm), canonical=True) for sm in df['smiles'].tolist()]\n",
    "   \n",
    "    # SMILES to graph-based dataset for prediction model with DGL-Life\n",
    "    dataset=MoleculeCSVDataset(df=df,\n",
    "                               smiles_to_graph=partial(smiles_to_bigraph, add_self_loop=True),\n",
    "                               node_featurizer=featurize_atoms,\n",
    "                               edge_featurizer=None,\n",
    "#                               edge_featurizer=partial(featurize_edges, add_self_loop=True),                               \n",
    "                               smiles_column='smiles',\n",
    "                               cache_file_path='graph.pt',log_every=200)\n",
    "\n",
    "    train_set, val_set, test_set = RandomSplitter.train_val_test_split(dataset, frac_train=0.8, frac_val=0.1, frac_test=0.1, random_state=1024)\n",
    "    torch.save([train_set,val_set,test_set], \"graph.bin\")"
   ]
  },
  {
   "cell_type": "code",
   "execution_count": 16,
   "id": "95937d23",
   "metadata": {},
   "outputs": [
    {
     "data": {
      "text/plain": [
       "{'h': tensor([[6., 3., 1., 1., 2., 1., 0., 1., 0.],\n",
       "        [7., 2., 1., 1., 2., 0., 0., 1., 0.],\n",
       "        [6., 3., 1., 1., 2., 1., 0., 1., 0.],\n",
       "        [6., 3., 1., 1., 2., 1., 0., 1., 0.],\n",
       "        [6., 4., 0., 0., 3., 1., 0., 1., 0.],\n",
       "        [6., 3., 1., 1., 2., 1., 0., 1., 0.],\n",
       "        [7., 3., 0., 0., 2., 1., 0., 1., 0.],\n",
       "        [6., 4., 0., 0., 3., 1., 0., 1., 0.],\n",
       "        [6., 3., 1., 1., 2., 1., 0., 1., 0.],\n",
       "        [6., 4., 0., 0., 3., 1., 0., 1., 0.],\n",
       "        [6., 3., 1., 1., 2., 1., 0., 1., 0.],\n",
       "        [6., 3., 1., 1., 2., 1., 0., 1., 0.],\n",
       "        [6., 4., 0., 0., 3., 1., 0., 1., 0.],\n",
       "        [6., 3., 1., 1., 2., 1., 0., 1., 0.],\n",
       "        [6., 4., 0., 0., 3., 1., 0., 1., 0.],\n",
       "        [6., 3., 1., 1., 2., 1., 0., 1., 0.],\n",
       "        [6., 4., 0., 0., 3., 1., 0., 1., 0.],\n",
       "        [6., 4., 0., 0., 3., 1., 0., 1., 0.],\n",
       "        [6., 4., 0., 0., 3., 1., 0., 1., 0.],\n",
       "        [6., 3., 1., 1., 2., 1., 0., 1., 0.],\n",
       "        [6., 3., 1., 1., 2., 1., 0., 1., 0.],\n",
       "        [5., 3., 0., 0., 3., 0., 0., 1., 0.],\n",
       "        [6., 4., 0., 0., 3., 1., 0., 1., 0.],\n",
       "        [6., 4., 0., 0., 3., 1., 0., 1., 0.],\n",
       "        [6., 4., 0., 0., 3., 1., 0., 1., 0.],\n",
       "        [6., 3., 1., 1., 2., 1., 0., 1., 0.],\n",
       "        [6., 4., 0., 0., 3., 1., 0., 1., 0.],\n",
       "        [6., 3., 1., 1., 2., 1., 0., 1., 0.],\n",
       "        [6., 3., 1., 1., 2., 1., 0., 1., 0.],\n",
       "        [6., 4., 0., 0., 3., 1., 0., 1., 0.],\n",
       "        [6., 4., 0., 0., 3., 1., 0., 1., 0.],\n",
       "        [6., 3., 1., 1., 2., 1., 0., 1., 0.],\n",
       "        [6., 3., 1., 1., 2., 1., 0., 1., 0.],\n",
       "        [7., 2., 1., 1., 2., 0., 0., 1., 0.],\n",
       "        [6., 3., 1., 1., 2., 1., 0., 1., 0.],\n",
       "        [7., 3., 0., 0., 2., 1., 0., 1., 0.],\n",
       "        [6., 4., 0., 0., 3., 1., 0., 1., 0.]])}"
      ]
     },
     "execution_count": 16,
     "metadata": {},
     "output_type": "execute_result"
    }
   ],
   "source": [
    "train_set.load_full = True\n",
    "train_set[0][1].ndata"
   ]
  },
  {
   "cell_type": "code",
   "execution_count": null,
   "id": "62f25a9b",
   "metadata": {},
   "outputs": [],
   "source": []
  },
  {
   "cell_type": "code",
   "execution_count": null,
   "id": "63cd3711",
   "metadata": {},
   "outputs": [],
   "source": []
  },
  {
   "cell_type": "code",
   "execution_count": null,
   "id": "7ec61253",
   "metadata": {},
   "outputs": [],
   "source": []
  },
  {
   "cell_type": "code",
   "execution_count": null,
   "id": "14671a44",
   "metadata": {},
   "outputs": [],
   "source": []
  }
 ],
 "metadata": {
  "kernelspec": {
   "display_name": "Python [conda env:py37]",
   "language": "python",
   "name": "conda-env-py37-py"
  },
  "language_info": {
   "codemirror_mode": {
    "name": "ipython",
    "version": 3
   },
   "file_extension": ".py",
   "mimetype": "text/x-python",
   "name": "python",
   "nbconvert_exporter": "python",
   "pygments_lexer": "ipython3",
   "version": "3.7.11"
  }
 },
 "nbformat": 4,
 "nbformat_minor": 5
}
